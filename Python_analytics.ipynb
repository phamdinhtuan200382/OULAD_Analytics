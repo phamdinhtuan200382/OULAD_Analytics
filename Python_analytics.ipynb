{
 "metadata": {
  "language_info": {
   "codemirror_mode": {
    "name": "ipython",
    "version": 3
   },
   "file_extension": ".py",
   "mimetype": "text/x-python",
   "name": "python",
   "nbconvert_exporter": "python",
   "pygments_lexer": "ipython3",
   "version": "3.9.5"
  },
  "orig_nbformat": 2,
  "kernelspec": {
   "name": "python3",
   "display_name": "Python 3",
   "language": "python"
  }
 },
 "nbformat": 4,
 "nbformat_minor": 2,
 "cells": [
  {
   "cell_type": "code",
   "execution_count": 2,
   "metadata": {},
   "outputs": [],
   "source": [
    "import numpy as np\n",
    "import pandas as pd \n",
    "import matplotlib.pyplot as plt\n",
    "from matplotlib.gridspec import GridSpec\n",
    "import missingno as msno\n",
    "from plotnine import *\n",
    "import seaborn as sns"
   ]
  },
  {
   "cell_type": "code",
   "execution_count": 3,
   "metadata": {},
   "outputs": [],
   "source": [
    "course = pd.read_csv('courses.csv')\n",
    "assessments = pd.read_csv('assessments.csv')\n",
    "vle = pd.read_csv('vle.csv')\n",
    "info_student = pd.read_csv('studentInfo.csv')\n",
    "reg_student = pd.read_csv('studentRegistration.csv')\n",
    "as_student = pd.read_csv('studentAssessment.csv')\n",
    "vle_student = pd.read_csv('studentVle.csv')"
   ]
  },
  {
   "source": [
    "\n",
    "## Student Info"
   ],
   "cell_type": "markdown",
   "metadata": {}
  },
  {
   "cell_type": "code",
   "execution_count": 4,
   "metadata": {},
   "outputs": [
    {
     "output_type": "stream",
     "name": "stdout",
     "text": [
      "<class 'pandas.core.frame.DataFrame'>\nRangeIndex: 32593 entries, 0 to 32592\nData columns (total 12 columns):\n #   Column                Non-Null Count  Dtype \n---  ------                --------------  ----- \n 0   code_module           32593 non-null  object\n 1   code_presentation     32593 non-null  object\n 2   id_student            32593 non-null  int64 \n 3   gender                32593 non-null  object\n 4   region                32593 non-null  object\n 5   highest_education     32593 non-null  object\n 6   imd_band              31482 non-null  object\n 7   age_band              32593 non-null  object\n 8   num_of_prev_attempts  32593 non-null  int64 \n 9   studied_credits       32593 non-null  int64 \n 10  disability            32593 non-null  object\n 11  final_result          32593 non-null  object\ndtypes: int64(3), object(9)\nmemory usage: 3.0+ MB\n"
     ]
    }
   ],
   "source": [
    "info_student.info()"
   ]
  },
  {
   "cell_type": "code",
   "execution_count": 5,
   "metadata": {},
   "outputs": [],
   "source": [
    "info_student['id_student'] = info_student['id_student'].astype(object)\n",
    "vle_student['id_student'] = vle_student['id_student'].astype(object)"
   ]
  },
  {
   "cell_type": "code",
   "execution_count": 6,
   "metadata": {},
   "outputs": [
    {
     "output_type": "execute_result",
     "data": {
      "text/plain": [
       "array(['90-100%', '20-30%', '30-40%', '50-60%', '80-90%', '70-80%', nan,\n",
       "       '60-70%', '40-50%', '10-20%', '0-10%'], dtype=object)"
      ]
     },
     "metadata": {},
     "execution_count": 6
    }
   ],
   "source": [
    "info_student.imd_band.unique()"
   ]
  },
  {
   "source": [
    "Có giá trị 10-20 không đúng cấu trúc cần được thay"
   ],
   "cell_type": "markdown",
   "metadata": {}
  },
  {
   "cell_type": "code",
   "execution_count": 7,
   "metadata": {},
   "outputs": [],
   "source": [
    "info_student.imd_band.replace('10-20', '10-20%', inplace=True)\n"
   ]
  },
  {
   "cell_type": "code",
   "execution_count": 8,
   "metadata": {},
   "outputs": [
    {
     "output_type": "execute_result",
     "data": {
      "text/plain": [
       "   code_module code_presentation id_student gender                region  \\\n",
       "18         AAA             2013J      74372      M   East Anglian Region   \n",
       "64         AAA             2013J     168936      F  West Midlands Region   \n",
       "74         AAA             2013J     183947      M         London Region   \n",
       "76         AAA             2013J     185439      M         London Region   \n",
       "87         AAA             2013J     227499      F         London Region   \n",
       "\n",
       "        highest_education imd_band age_band  num_of_prev_attempts  \\\n",
       "18  A Level or Equivalent   10-20%    35-55                     0   \n",
       "64     Lower Than A Level   10-20%    35-55                     0   \n",
       "74  A Level or Equivalent   10-20%     0-35                     0   \n",
       "76       HE Qualification   10-20%     0-35                     0   \n",
       "87  A Level or Equivalent   10-20%    35-55                     0   \n",
       "\n",
       "    studied_credits disability final_result  \n",
       "18              150          N         Fail  \n",
       "64               60          N         Pass  \n",
       "74              180          N         Pass  \n",
       "76              120          N         Fail  \n",
       "87               60          N  Distinction  "
      ],
      "text/html": "<div>\n<style scoped>\n    .dataframe tbody tr th:only-of-type {\n        vertical-align: middle;\n    }\n\n    .dataframe tbody tr th {\n        vertical-align: top;\n    }\n\n    .dataframe thead th {\n        text-align: right;\n    }\n</style>\n<table border=\"1\" class=\"dataframe\">\n  <thead>\n    <tr style=\"text-align: right;\">\n      <th></th>\n      <th>code_module</th>\n      <th>code_presentation</th>\n      <th>id_student</th>\n      <th>gender</th>\n      <th>region</th>\n      <th>highest_education</th>\n      <th>imd_band</th>\n      <th>age_band</th>\n      <th>num_of_prev_attempts</th>\n      <th>studied_credits</th>\n      <th>disability</th>\n      <th>final_result</th>\n    </tr>\n  </thead>\n  <tbody>\n    <tr>\n      <th>18</th>\n      <td>AAA</td>\n      <td>2013J</td>\n      <td>74372</td>\n      <td>M</td>\n      <td>East Anglian Region</td>\n      <td>A Level or Equivalent</td>\n      <td>10-20%</td>\n      <td>35-55</td>\n      <td>0</td>\n      <td>150</td>\n      <td>N</td>\n      <td>Fail</td>\n    </tr>\n    <tr>\n      <th>64</th>\n      <td>AAA</td>\n      <td>2013J</td>\n      <td>168936</td>\n      <td>F</td>\n      <td>West Midlands Region</td>\n      <td>Lower Than A Level</td>\n      <td>10-20%</td>\n      <td>35-55</td>\n      <td>0</td>\n      <td>60</td>\n      <td>N</td>\n      <td>Pass</td>\n    </tr>\n    <tr>\n      <th>74</th>\n      <td>AAA</td>\n      <td>2013J</td>\n      <td>183947</td>\n      <td>M</td>\n      <td>London Region</td>\n      <td>A Level or Equivalent</td>\n      <td>10-20%</td>\n      <td>0-35</td>\n      <td>0</td>\n      <td>180</td>\n      <td>N</td>\n      <td>Pass</td>\n    </tr>\n    <tr>\n      <th>76</th>\n      <td>AAA</td>\n      <td>2013J</td>\n      <td>185439</td>\n      <td>M</td>\n      <td>London Region</td>\n      <td>HE Qualification</td>\n      <td>10-20%</td>\n      <td>0-35</td>\n      <td>0</td>\n      <td>120</td>\n      <td>N</td>\n      <td>Fail</td>\n    </tr>\n    <tr>\n      <th>87</th>\n      <td>AAA</td>\n      <td>2013J</td>\n      <td>227499</td>\n      <td>F</td>\n      <td>London Region</td>\n      <td>A Level or Equivalent</td>\n      <td>10-20%</td>\n      <td>35-55</td>\n      <td>0</td>\n      <td>60</td>\n      <td>N</td>\n      <td>Distinction</td>\n    </tr>\n  </tbody>\n</table>\n</div>"
     },
     "metadata": {},
     "execution_count": 8
    }
   ],
   "source": [
    "info_student[lambda info_student: info_student.imd_band == '10-20%'].head()"
   ]
  },
  {
   "source": [
    "Kiểm tra thì id_student không unique nên không thể đem làm khóa"
   ],
   "cell_type": "markdown",
   "metadata": {}
  },
  {
   "cell_type": "code",
   "execution_count": 9,
   "metadata": {},
   "outputs": [
    {
     "output_type": "stream",
     "name": "stdout",
     "text": [
      "32593\n28785\n"
     ]
    }
   ],
   "source": [
    "print(len(info_student.id_student))\n",
    "print(len(info_student.id_student.unique()))"
   ]
  },
  {
   "source": [
    "## Courses"
   ],
   "cell_type": "markdown",
   "metadata": {}
  },
  {
   "cell_type": "code",
   "execution_count": 10,
   "metadata": {},
   "outputs": [
    {
     "output_type": "stream",
     "name": "stdout",
     "text": [
      "<class 'pandas.core.frame.DataFrame'>\nRangeIndex: 22 entries, 0 to 21\nData columns (total 3 columns):\n #   Column                      Non-Null Count  Dtype \n---  ------                      --------------  ----- \n 0   code_module                 22 non-null     object\n 1   code_presentation           22 non-null     object\n 2   module_presentation_length  22 non-null     int64 \ndtypes: int64(1), object(2)\nmemory usage: 656.0+ bytes\n"
     ]
    }
   ],
   "source": [
    "course.info()"
   ]
  },
  {
   "source": [
    "## Assessment"
   ],
   "cell_type": "markdown",
   "metadata": {}
  },
  {
   "cell_type": "code",
   "execution_count": 11,
   "metadata": {},
   "outputs": [
    {
     "output_type": "execute_result",
     "data": {
      "text/plain": [
       "  code_module code_presentation  id_assessment assessment_type   date  weight  \\\n",
       "0         AAA             2013J           1752             TMA   19.0    10.0   \n",
       "1         AAA             2013J           1753             TMA   54.0    20.0   \n",
       "2         AAA             2013J           1754             TMA  117.0    20.0   \n",
       "3         AAA             2013J           1755             TMA  166.0    20.0   \n",
       "4         AAA             2013J           1756             TMA  215.0    30.0   \n",
       "\n",
       "   Unnamed: 6  Unnamed: 7  Unnamed: 8  Unnamed: 9  ...  Unnamed: 13  \\\n",
       "0         NaN         NaN         NaN         NaN  ...          NaN   \n",
       "1         NaN         NaN         NaN         NaN  ...          NaN   \n",
       "2         NaN         NaN         NaN         NaN  ...          NaN   \n",
       "3         NaN         NaN         NaN         NaN  ...          NaN   \n",
       "4         NaN         NaN         NaN         NaN  ...          NaN   \n",
       "\n",
       "   Unnamed: 14  Unnamed: 15  Unnamed: 16 Unnamed: 17 Unnamed: 18 Unnamed: 19  \\\n",
       "0          NaN          NaN          NaN         NaN         NaN         NaN   \n",
       "1          NaN          NaN          NaN         NaN         NaN         NaN   \n",
       "2          NaN          NaN          NaN         NaN         NaN         NaN   \n",
       "3          NaN          NaN          NaN         NaN         NaN         NaN   \n",
       "4          NaN          NaN          NaN         NaN         NaN         NaN   \n",
       "\n",
       "  Unnamed: 20 Unnamed: 21 Unnamed: 22  \n",
       "0         NaN         NaN         NaN  \n",
       "1         NaN         NaN         NaN  \n",
       "2         NaN         NaN         NaN  \n",
       "3         NaN         NaN         NaN  \n",
       "4         NaN         NaN         NaN  \n",
       "\n",
       "[5 rows x 23 columns]"
      ],
      "text/html": "<div>\n<style scoped>\n    .dataframe tbody tr th:only-of-type {\n        vertical-align: middle;\n    }\n\n    .dataframe tbody tr th {\n        vertical-align: top;\n    }\n\n    .dataframe thead th {\n        text-align: right;\n    }\n</style>\n<table border=\"1\" class=\"dataframe\">\n  <thead>\n    <tr style=\"text-align: right;\">\n      <th></th>\n      <th>code_module</th>\n      <th>code_presentation</th>\n      <th>id_assessment</th>\n      <th>assessment_type</th>\n      <th>date</th>\n      <th>weight</th>\n      <th>Unnamed: 6</th>\n      <th>Unnamed: 7</th>\n      <th>Unnamed: 8</th>\n      <th>Unnamed: 9</th>\n      <th>...</th>\n      <th>Unnamed: 13</th>\n      <th>Unnamed: 14</th>\n      <th>Unnamed: 15</th>\n      <th>Unnamed: 16</th>\n      <th>Unnamed: 17</th>\n      <th>Unnamed: 18</th>\n      <th>Unnamed: 19</th>\n      <th>Unnamed: 20</th>\n      <th>Unnamed: 21</th>\n      <th>Unnamed: 22</th>\n    </tr>\n  </thead>\n  <tbody>\n    <tr>\n      <th>0</th>\n      <td>AAA</td>\n      <td>2013J</td>\n      <td>1752</td>\n      <td>TMA</td>\n      <td>19.0</td>\n      <td>10.0</td>\n      <td>NaN</td>\n      <td>NaN</td>\n      <td>NaN</td>\n      <td>NaN</td>\n      <td>...</td>\n      <td>NaN</td>\n      <td>NaN</td>\n      <td>NaN</td>\n      <td>NaN</td>\n      <td>NaN</td>\n      <td>NaN</td>\n      <td>NaN</td>\n      <td>NaN</td>\n      <td>NaN</td>\n      <td>NaN</td>\n    </tr>\n    <tr>\n      <th>1</th>\n      <td>AAA</td>\n      <td>2013J</td>\n      <td>1753</td>\n      <td>TMA</td>\n      <td>54.0</td>\n      <td>20.0</td>\n      <td>NaN</td>\n      <td>NaN</td>\n      <td>NaN</td>\n      <td>NaN</td>\n      <td>...</td>\n      <td>NaN</td>\n      <td>NaN</td>\n      <td>NaN</td>\n      <td>NaN</td>\n      <td>NaN</td>\n      <td>NaN</td>\n      <td>NaN</td>\n      <td>NaN</td>\n      <td>NaN</td>\n      <td>NaN</td>\n    </tr>\n    <tr>\n      <th>2</th>\n      <td>AAA</td>\n      <td>2013J</td>\n      <td>1754</td>\n      <td>TMA</td>\n      <td>117.0</td>\n      <td>20.0</td>\n      <td>NaN</td>\n      <td>NaN</td>\n      <td>NaN</td>\n      <td>NaN</td>\n      <td>...</td>\n      <td>NaN</td>\n      <td>NaN</td>\n      <td>NaN</td>\n      <td>NaN</td>\n      <td>NaN</td>\n      <td>NaN</td>\n      <td>NaN</td>\n      <td>NaN</td>\n      <td>NaN</td>\n      <td>NaN</td>\n    </tr>\n    <tr>\n      <th>3</th>\n      <td>AAA</td>\n      <td>2013J</td>\n      <td>1755</td>\n      <td>TMA</td>\n      <td>166.0</td>\n      <td>20.0</td>\n      <td>NaN</td>\n      <td>NaN</td>\n      <td>NaN</td>\n      <td>NaN</td>\n      <td>...</td>\n      <td>NaN</td>\n      <td>NaN</td>\n      <td>NaN</td>\n      <td>NaN</td>\n      <td>NaN</td>\n      <td>NaN</td>\n      <td>NaN</td>\n      <td>NaN</td>\n      <td>NaN</td>\n      <td>NaN</td>\n    </tr>\n    <tr>\n      <th>4</th>\n      <td>AAA</td>\n      <td>2013J</td>\n      <td>1756</td>\n      <td>TMA</td>\n      <td>215.0</td>\n      <td>30.0</td>\n      <td>NaN</td>\n      <td>NaN</td>\n      <td>NaN</td>\n      <td>NaN</td>\n      <td>...</td>\n      <td>NaN</td>\n      <td>NaN</td>\n      <td>NaN</td>\n      <td>NaN</td>\n      <td>NaN</td>\n      <td>NaN</td>\n      <td>NaN</td>\n      <td>NaN</td>\n      <td>NaN</td>\n      <td>NaN</td>\n    </tr>\n  </tbody>\n</table>\n<p>5 rows × 23 columns</p>\n</div>"
     },
     "metadata": {},
     "execution_count": 11
    }
   ],
   "source": [
    "assessments.head()"
   ]
  },
  {
   "cell_type": "code",
   "execution_count": 12,
   "metadata": {},
   "outputs": [
    {
     "output_type": "stream",
     "name": "stdout",
     "text": [
      "<class 'pandas.core.frame.DataFrame'>\nRangeIndex: 206 entries, 0 to 205\nData columns (total 23 columns):\n #   Column             Non-Null Count  Dtype  \n---  ------             --------------  -----  \n 0   code_module        206 non-null    object \n 1   code_presentation  206 non-null    object \n 2   id_assessment      206 non-null    int64  \n 3   assessment_type    206 non-null    object \n 4   date               195 non-null    float64\n 5   weight             206 non-null    float64\n 6   Unnamed: 6         0 non-null      float64\n 7   Unnamed: 7         0 non-null      float64\n 8   Unnamed: 8         0 non-null      float64\n 9   Unnamed: 9         0 non-null      float64\n 10  Unnamed: 10        0 non-null      float64\n 11  Unnamed: 11        0 non-null      float64\n 12  Unnamed: 12        0 non-null      float64\n 13  Unnamed: 13        0 non-null      float64\n 14  Unnamed: 14        19 non-null     object \n 15  Unnamed: 15        9 non-null      object \n 16  Unnamed: 16        17 non-null     object \n 17  Unnamed: 17        10 non-null     object \n 18  Unnamed: 18        15 non-null     object \n 19  Unnamed: 19        11 non-null     object \n 20  Unnamed: 20        18 non-null     object \n 21  Unnamed: 21        14 non-null     object \n 22  Unnamed: 22        18 non-null     object \ndtypes: float64(10), int64(1), object(12)\nmemory usage: 37.1+ KB\n"
     ]
    }
   ],
   "source": [
    "assessments.info()"
   ]
  },
  {
   "cell_type": "code",
   "execution_count": 13,
   "metadata": {},
   "outputs": [],
   "source": [
    "assessments['id_assessment'] = assessments['id_assessment'].astype(object)\n"
   ]
  },
  {
   "source": [
    "Đếm số assessment được tổ chức "
   ],
   "cell_type": "markdown",
   "metadata": {}
  },
  {
   "cell_type": "code",
   "execution_count": 14,
   "metadata": {},
   "outputs": [
    {
     "output_type": "execute_result",
     "data": {
      "text/plain": [
       "  code_module code_presentation  id_assessment\n",
       "0         AAA             2013J              5\n",
       "1         AAA             2014J              5\n",
       "2         BBB             2013B             11\n",
       "3         BBB             2013J             11\n",
       "4         BBB             2014B             11"
      ],
      "text/html": "<div>\n<style scoped>\n    .dataframe tbody tr th:only-of-type {\n        vertical-align: middle;\n    }\n\n    .dataframe tbody tr th {\n        vertical-align: top;\n    }\n\n    .dataframe thead th {\n        text-align: right;\n    }\n</style>\n<table border=\"1\" class=\"dataframe\">\n  <thead>\n    <tr style=\"text-align: right;\">\n      <th></th>\n      <th>code_module</th>\n      <th>code_presentation</th>\n      <th>id_assessment</th>\n    </tr>\n  </thead>\n  <tbody>\n    <tr>\n      <th>0</th>\n      <td>AAA</td>\n      <td>2013J</td>\n      <td>5</td>\n    </tr>\n    <tr>\n      <th>1</th>\n      <td>AAA</td>\n      <td>2014J</td>\n      <td>5</td>\n    </tr>\n    <tr>\n      <th>2</th>\n      <td>BBB</td>\n      <td>2013B</td>\n      <td>11</td>\n    </tr>\n    <tr>\n      <th>3</th>\n      <td>BBB</td>\n      <td>2013J</td>\n      <td>11</td>\n    </tr>\n    <tr>\n      <th>4</th>\n      <td>BBB</td>\n      <td>2014B</td>\n      <td>11</td>\n    </tr>\n  </tbody>\n</table>\n</div>"
     },
     "metadata": {},
     "execution_count": 14
    }
   ],
   "source": [
    "ass_loc = assessments.loc[assessments.date.notnull()]\n",
    "ass_cnt = ass_loc.groupby(['code_module','code_presentation']).count()['id_assessment'] \n",
    "ass_cnt = ass_cnt.reset_index()\n",
    "ass_cnt.head()"
   ]
  },
  {
   "cell_type": "code",
   "execution_count": 15,
   "metadata": {},
   "outputs": [
    {
     "output_type": "execute_result",
     "data": {
      "text/plain": [
       "                               total_weight\n",
       "code_module code_presentation              \n",
       "AAA         2013J                    200.00\n",
       "            2014J                    200.00\n",
       "BBB         2013B                    200.00\n",
       "            2013J                    200.00\n",
       "            2014B                    200.00\n",
       "            2014J                    200.00\n",
       "CCC         2014B                    200.00\n",
       "            2014J                    200.00\n",
       "DDD         2013B                    200.00\n",
       "            2013J                    200.00\n",
       "            2014B                    200.00\n",
       "            2014J                    200.00\n",
       "EEE         2013J                    200.00\n",
       "            2014B                    200.00\n",
       "            2014J                    200.00\n",
       "FFF         2013B                    200.00\n",
       "            2013J                    200.00\n",
       "            2014B                    200.00\n",
       "            2014J                    200.00\n",
       "GGG         2013J                    199.99\n",
       "            2014B                    199.99\n",
       "            2014J                    199.99"
      ],
      "text/html": "<div>\n<style scoped>\n    .dataframe tbody tr th:only-of-type {\n        vertical-align: middle;\n    }\n\n    .dataframe tbody tr th {\n        vertical-align: top;\n    }\n\n    .dataframe thead th {\n        text-align: right;\n    }\n</style>\n<table border=\"1\" class=\"dataframe\">\n  <thead>\n    <tr style=\"text-align: right;\">\n      <th></th>\n      <th></th>\n      <th>total_weight</th>\n    </tr>\n    <tr>\n      <th>code_module</th>\n      <th>code_presentation</th>\n      <th></th>\n    </tr>\n  </thead>\n  <tbody>\n    <tr>\n      <th rowspan=\"2\" valign=\"top\">AAA</th>\n      <th>2013J</th>\n      <td>200.00</td>\n    </tr>\n    <tr>\n      <th>2014J</th>\n      <td>200.00</td>\n    </tr>\n    <tr>\n      <th rowspan=\"4\" valign=\"top\">BBB</th>\n      <th>2013B</th>\n      <td>200.00</td>\n    </tr>\n    <tr>\n      <th>2013J</th>\n      <td>200.00</td>\n    </tr>\n    <tr>\n      <th>2014B</th>\n      <td>200.00</td>\n    </tr>\n    <tr>\n      <th>2014J</th>\n      <td>200.00</td>\n    </tr>\n    <tr>\n      <th rowspan=\"2\" valign=\"top\">CCC</th>\n      <th>2014B</th>\n      <td>200.00</td>\n    </tr>\n    <tr>\n      <th>2014J</th>\n      <td>200.00</td>\n    </tr>\n    <tr>\n      <th rowspan=\"4\" valign=\"top\">DDD</th>\n      <th>2013B</th>\n      <td>200.00</td>\n    </tr>\n    <tr>\n      <th>2013J</th>\n      <td>200.00</td>\n    </tr>\n    <tr>\n      <th>2014B</th>\n      <td>200.00</td>\n    </tr>\n    <tr>\n      <th>2014J</th>\n      <td>200.00</td>\n    </tr>\n    <tr>\n      <th rowspan=\"3\" valign=\"top\">EEE</th>\n      <th>2013J</th>\n      <td>200.00</td>\n    </tr>\n    <tr>\n      <th>2014B</th>\n      <td>200.00</td>\n    </tr>\n    <tr>\n      <th>2014J</th>\n      <td>200.00</td>\n    </tr>\n    <tr>\n      <th rowspan=\"4\" valign=\"top\">FFF</th>\n      <th>2013B</th>\n      <td>200.00</td>\n    </tr>\n    <tr>\n      <th>2013J</th>\n      <td>200.00</td>\n    </tr>\n    <tr>\n      <th>2014B</th>\n      <td>200.00</td>\n    </tr>\n    <tr>\n      <th>2014J</th>\n      <td>200.00</td>\n    </tr>\n    <tr>\n      <th rowspan=\"3\" valign=\"top\">GGG</th>\n      <th>2013J</th>\n      <td>199.99</td>\n    </tr>\n    <tr>\n      <th>2014B</th>\n      <td>199.99</td>\n    </tr>\n    <tr>\n      <th>2014J</th>\n      <td>199.99</td>\n    </tr>\n  </tbody>\n</table>\n</div>"
     },
     "metadata": {},
     "execution_count": 15
    }
   ],
   "source": [
    "assessments.groupby(['code_module','code_presentation']).agg(total_weight = ('weight',sum))"
   ]
  },
  {
   "cell_type": "code",
   "execution_count": 16,
   "metadata": {},
   "outputs": [
    {
     "output_type": "execute_result",
     "data": {
      "text/plain": [
       "                                               total_weights\n",
       "code_module code_presentation assessment_type               \n",
       "CCC         2014B             CMA                      25.00\n",
       "                              Exam                    100.00\n",
       "                              TMA                      75.00\n",
       "            2014J             CMA                      25.00\n",
       "                              Exam                    100.00\n",
       "                              TMA                      75.00\n",
       "GGG         2013J             CMA                       0.00\n",
       "                              Exam                    100.00\n",
       "                              TMA                      99.99\n",
       "            2014B             CMA                       0.00\n",
       "                              Exam                    100.00\n",
       "                              TMA                      99.99\n",
       "            2014J             CMA                       0.00\n",
       "                              Exam                    100.00\n",
       "                              TMA                      99.99"
      ],
      "text/html": "<div>\n<style scoped>\n    .dataframe tbody tr th:only-of-type {\n        vertical-align: middle;\n    }\n\n    .dataframe tbody tr th {\n        vertical-align: top;\n    }\n\n    .dataframe thead th {\n        text-align: right;\n    }\n</style>\n<table border=\"1\" class=\"dataframe\">\n  <thead>\n    <tr style=\"text-align: right;\">\n      <th></th>\n      <th></th>\n      <th></th>\n      <th>total_weights</th>\n    </tr>\n    <tr>\n      <th>code_module</th>\n      <th>code_presentation</th>\n      <th>assessment_type</th>\n      <th></th>\n    </tr>\n  </thead>\n  <tbody>\n    <tr>\n      <th rowspan=\"6\" valign=\"top\">CCC</th>\n      <th rowspan=\"3\" valign=\"top\">2014B</th>\n      <th>CMA</th>\n      <td>25.00</td>\n    </tr>\n    <tr>\n      <th>Exam</th>\n      <td>100.00</td>\n    </tr>\n    <tr>\n      <th>TMA</th>\n      <td>75.00</td>\n    </tr>\n    <tr>\n      <th rowspan=\"3\" valign=\"top\">2014J</th>\n      <th>CMA</th>\n      <td>25.00</td>\n    </tr>\n    <tr>\n      <th>Exam</th>\n      <td>100.00</td>\n    </tr>\n    <tr>\n      <th>TMA</th>\n      <td>75.00</td>\n    </tr>\n    <tr>\n      <th rowspan=\"9\" valign=\"top\">GGG</th>\n      <th rowspan=\"3\" valign=\"top\">2013J</th>\n      <th>CMA</th>\n      <td>0.00</td>\n    </tr>\n    <tr>\n      <th>Exam</th>\n      <td>100.00</td>\n    </tr>\n    <tr>\n      <th>TMA</th>\n      <td>99.99</td>\n    </tr>\n    <tr>\n      <th rowspan=\"3\" valign=\"top\">2014B</th>\n      <th>CMA</th>\n      <td>0.00</td>\n    </tr>\n    <tr>\n      <th>Exam</th>\n      <td>100.00</td>\n    </tr>\n    <tr>\n      <th>TMA</th>\n      <td>99.99</td>\n    </tr>\n    <tr>\n      <th rowspan=\"3\" valign=\"top\">2014J</th>\n      <th>CMA</th>\n      <td>0.00</td>\n    </tr>\n    <tr>\n      <th>Exam</th>\n      <td>100.00</td>\n    </tr>\n    <tr>\n      <th>TMA</th>\n      <td>99.99</td>\n    </tr>\n  </tbody>\n</table>\n</div>"
     },
     "metadata": {},
     "execution_count": 16
    }
   ],
   "source": [
    "assessments[assessments.code_module.isin([\"CCC\",\"GGG\"])].groupby(['code_module','code_presentation',\"assessment_type\"]).agg(total_weights = ('weight',sum))"
   ]
  },
  {
   "cell_type": "code",
   "execution_count": 17,
   "metadata": {},
   "outputs": [],
   "source": [
    "assessments.loc[(assessments.code_module == 'CCC') & (assessments.assessment_type=='Exam'),'weight']/2\n",
    "assessments.loc[(assessments.code_module == 'GGG') & (assessments.assessment_type=='TMA'),'weight']=(100/3)"
   ]
  },
  {
   "source": [
    "## Student Assessment"
   ],
   "cell_type": "markdown",
   "metadata": {}
  },
  {
   "cell_type": "code",
   "execution_count": 18,
   "metadata": {},
   "outputs": [
    {
     "output_type": "stream",
     "name": "stdout",
     "text": [
      "<class 'pandas.core.frame.DataFrame'>\nRangeIndex: 173912 entries, 0 to 173911\nData columns (total 5 columns):\n #   Column          Non-Null Count   Dtype  \n---  ------          --------------   -----  \n 0   id_assessment   173912 non-null  int64  \n 1   id_student      173912 non-null  int64  \n 2   date_submitted  173912 non-null  int64  \n 3   is_banked       173912 non-null  int64  \n 4   score           173739 non-null  float64\ndtypes: float64(1), int64(4)\nmemory usage: 6.6 MB\n"
     ]
    }
   ],
   "source": [
    "as_student.info()"
   ]
  },
  {
   "cell_type": "code",
   "execution_count": 19,
   "metadata": {},
   "outputs": [],
   "source": [
    "as_student['id_student'] = as_student['id_student'].astype(object)\n"
   ]
  },
  {
   "cell_type": "code",
   "execution_count": 20,
   "metadata": {},
   "outputs": [
    {
     "output_type": "execute_result",
     "data": {
      "text/plain": [
       "        id_assessment id_student  date_submitted  is_banked  score\n",
       "215              1752     721259              22          0    NaN\n",
       "937              1754     260355             127          0    NaN\n",
       "2364             1760    2606802             180          0    NaN\n",
       "3358            14984     186780              77          0    NaN\n",
       "3914            14984     531205              26          0    NaN\n",
       "...               ...        ...             ...        ...    ...\n",
       "148929          34903     582670             241          0    NaN\n",
       "159251          37415     610738              87          0    NaN\n",
       "166390          37427     631786             221          0    NaN\n",
       "169725          37435     648110              62          0    NaN\n",
       "170103          37435     480914              49          0    NaN\n",
       "\n",
       "[173 rows x 5 columns]"
      ],
      "text/html": "<div>\n<style scoped>\n    .dataframe tbody tr th:only-of-type {\n        vertical-align: middle;\n    }\n\n    .dataframe tbody tr th {\n        vertical-align: top;\n    }\n\n    .dataframe thead th {\n        text-align: right;\n    }\n</style>\n<table border=\"1\" class=\"dataframe\">\n  <thead>\n    <tr style=\"text-align: right;\">\n      <th></th>\n      <th>id_assessment</th>\n      <th>id_student</th>\n      <th>date_submitted</th>\n      <th>is_banked</th>\n      <th>score</th>\n    </tr>\n  </thead>\n  <tbody>\n    <tr>\n      <th>215</th>\n      <td>1752</td>\n      <td>721259</td>\n      <td>22</td>\n      <td>0</td>\n      <td>NaN</td>\n    </tr>\n    <tr>\n      <th>937</th>\n      <td>1754</td>\n      <td>260355</td>\n      <td>127</td>\n      <td>0</td>\n      <td>NaN</td>\n    </tr>\n    <tr>\n      <th>2364</th>\n      <td>1760</td>\n      <td>2606802</td>\n      <td>180</td>\n      <td>0</td>\n      <td>NaN</td>\n    </tr>\n    <tr>\n      <th>3358</th>\n      <td>14984</td>\n      <td>186780</td>\n      <td>77</td>\n      <td>0</td>\n      <td>NaN</td>\n    </tr>\n    <tr>\n      <th>3914</th>\n      <td>14984</td>\n      <td>531205</td>\n      <td>26</td>\n      <td>0</td>\n      <td>NaN</td>\n    </tr>\n    <tr>\n      <th>...</th>\n      <td>...</td>\n      <td>...</td>\n      <td>...</td>\n      <td>...</td>\n      <td>...</td>\n    </tr>\n    <tr>\n      <th>148929</th>\n      <td>34903</td>\n      <td>582670</td>\n      <td>241</td>\n      <td>0</td>\n      <td>NaN</td>\n    </tr>\n    <tr>\n      <th>159251</th>\n      <td>37415</td>\n      <td>610738</td>\n      <td>87</td>\n      <td>0</td>\n      <td>NaN</td>\n    </tr>\n    <tr>\n      <th>166390</th>\n      <td>37427</td>\n      <td>631786</td>\n      <td>221</td>\n      <td>0</td>\n      <td>NaN</td>\n    </tr>\n    <tr>\n      <th>169725</th>\n      <td>37435</td>\n      <td>648110</td>\n      <td>62</td>\n      <td>0</td>\n      <td>NaN</td>\n    </tr>\n    <tr>\n      <th>170103</th>\n      <td>37435</td>\n      <td>480914</td>\n      <td>49</td>\n      <td>0</td>\n      <td>NaN</td>\n    </tr>\n  </tbody>\n</table>\n<p>173 rows × 5 columns</p>\n</div>"
     },
     "metadata": {},
     "execution_count": 20
    }
   ],
   "source": [
    "as_student.loc[as_student.score.isnull()]"
   ]
  },
  {
   "cell_type": "code",
   "execution_count": 21,
   "metadata": {},
   "outputs": [],
   "source": [
    "as_student.score.fillna(0, inplace=True)"
   ]
  },
  {
   "source": [
    "## Student Registration"
   ],
   "cell_type": "markdown",
   "metadata": {}
  },
  {
   "cell_type": "code",
   "execution_count": 22,
   "metadata": {},
   "outputs": [
    {
     "output_type": "stream",
     "name": "stdout",
     "text": [
      "<class 'pandas.core.frame.DataFrame'>\nRangeIndex: 32593 entries, 0 to 32592\nData columns (total 5 columns):\n #   Column               Non-Null Count  Dtype  \n---  ------               --------------  -----  \n 0   code_module          32593 non-null  object \n 1   code_presentation    32593 non-null  object \n 2   id_student           32593 non-null  int64  \n 3   date_registration    32548 non-null  float64\n 4   date_unregistration  10072 non-null  float64\ndtypes: float64(2), int64(1), object(2)\nmemory usage: 1.2+ MB\n"
     ]
    }
   ],
   "source": [
    "reg_student.info()"
   ]
  },
  {
   "cell_type": "code",
   "execution_count": 23,
   "metadata": {},
   "outputs": [],
   "source": [
    "reg_student['id_student'] = reg_student['id_student'].astype(object)"
   ]
  },
  {
   "cell_type": "code",
   "execution_count": 24,
   "metadata": {},
   "outputs": [
    {
     "output_type": "execute_result",
     "data": {
      "text/plain": [
       "10156"
      ]
     },
     "metadata": {},
     "execution_count": 24
    }
   ],
   "source": [
    "(info_student.final_result == 'Withdrawn').sum()"
   ]
  },
  {
   "source": [
    "Sô lượng sinh viên hủy đăng ký trong bảng reg_student và số lượng sinh viên wihtdrawn trong bảng info_student không khớp nhau"
   ],
   "cell_type": "markdown",
   "metadata": {}
  },
  {
   "cell_type": "code",
   "execution_count": 25,
   "metadata": {},
   "outputs": [
    {
     "output_type": "execute_result",
     "data": {
      "text/plain": [
       "     code_module code_presentation id_student gender                region  \\\n",
       "719          BBB             2013J     362907      F     South West Region   \n",
       "724          BBB             2013J     365288      F          South Region   \n",
       "869          BBB             2013J     554243      F     South West Region   \n",
       "4961         DDD             2013J     315082      M  West Midlands Region   \n",
       "5010         DDD             2013J     403052      F      Yorkshire Region   \n",
       "5293         DDD             2013J     582954      M         London Region   \n",
       "7853         FFF             2013J     234004      M      Yorkshire Region   \n",
       "8001         FFF             2013J     523777      M          North Region   \n",
       "8340         FFF             2013J     601640      M         London Region   \n",
       "\n",
       "          highest_education imd_band age_band  num_of_prev_attempts  \\\n",
       "719      Lower Than A Level   20-30%    35-55                     2   \n",
       "724   A Level or Equivalent   70-80%     0-35                     0   \n",
       "869      Lower Than A Level   60-70%     0-35                     0   \n",
       "4961  A Level or Equivalent   50-60%     0-35                     0   \n",
       "5010       HE Qualification   20-30%     0-35                     0   \n",
       "5293     Lower Than A Level   10-20%     0-35                     0   \n",
       "7853  A Level or Equivalent   50-60%     0-35                     0   \n",
       "8001  A Level or Equivalent    0-10%    35-55                     1   \n",
       "8340       HE Qualification   20-30%     0-35                     0   \n",
       "\n",
       "      studied_credits disability final_result  date_unregistration  \n",
       "719                60          N         Fail                  0.0  \n",
       "724                60          N         Fail                  0.0  \n",
       "869                60          N         Fail                166.0  \n",
       "4961               60          N         Fail                  0.0  \n",
       "5010              150          N         Fail                  0.0  \n",
       "5293              120          N         Fail                 -7.0  \n",
       "7853               60          N         Fail                  0.0  \n",
       "8001               60          N         Fail                  0.0  \n",
       "8340               90          N         Fail                 -4.0  "
      ],
      "text/html": "<div>\n<style scoped>\n    .dataframe tbody tr th:only-of-type {\n        vertical-align: middle;\n    }\n\n    .dataframe tbody tr th {\n        vertical-align: top;\n    }\n\n    .dataframe thead th {\n        text-align: right;\n    }\n</style>\n<table border=\"1\" class=\"dataframe\">\n  <thead>\n    <tr style=\"text-align: right;\">\n      <th></th>\n      <th>code_module</th>\n      <th>code_presentation</th>\n      <th>id_student</th>\n      <th>gender</th>\n      <th>region</th>\n      <th>highest_education</th>\n      <th>imd_band</th>\n      <th>age_band</th>\n      <th>num_of_prev_attempts</th>\n      <th>studied_credits</th>\n      <th>disability</th>\n      <th>final_result</th>\n      <th>date_unregistration</th>\n    </tr>\n  </thead>\n  <tbody>\n    <tr>\n      <th>719</th>\n      <td>BBB</td>\n      <td>2013J</td>\n      <td>362907</td>\n      <td>F</td>\n      <td>South West Region</td>\n      <td>Lower Than A Level</td>\n      <td>20-30%</td>\n      <td>35-55</td>\n      <td>2</td>\n      <td>60</td>\n      <td>N</td>\n      <td>Fail</td>\n      <td>0.0</td>\n    </tr>\n    <tr>\n      <th>724</th>\n      <td>BBB</td>\n      <td>2013J</td>\n      <td>365288</td>\n      <td>F</td>\n      <td>South Region</td>\n      <td>A Level or Equivalent</td>\n      <td>70-80%</td>\n      <td>0-35</td>\n      <td>0</td>\n      <td>60</td>\n      <td>N</td>\n      <td>Fail</td>\n      <td>0.0</td>\n    </tr>\n    <tr>\n      <th>869</th>\n      <td>BBB</td>\n      <td>2013J</td>\n      <td>554243</td>\n      <td>F</td>\n      <td>South West Region</td>\n      <td>Lower Than A Level</td>\n      <td>60-70%</td>\n      <td>0-35</td>\n      <td>0</td>\n      <td>60</td>\n      <td>N</td>\n      <td>Fail</td>\n      <td>166.0</td>\n    </tr>\n    <tr>\n      <th>4961</th>\n      <td>DDD</td>\n      <td>2013J</td>\n      <td>315082</td>\n      <td>M</td>\n      <td>West Midlands Region</td>\n      <td>A Level or Equivalent</td>\n      <td>50-60%</td>\n      <td>0-35</td>\n      <td>0</td>\n      <td>60</td>\n      <td>N</td>\n      <td>Fail</td>\n      <td>0.0</td>\n    </tr>\n    <tr>\n      <th>5010</th>\n      <td>DDD</td>\n      <td>2013J</td>\n      <td>403052</td>\n      <td>F</td>\n      <td>Yorkshire Region</td>\n      <td>HE Qualification</td>\n      <td>20-30%</td>\n      <td>0-35</td>\n      <td>0</td>\n      <td>150</td>\n      <td>N</td>\n      <td>Fail</td>\n      <td>0.0</td>\n    </tr>\n    <tr>\n      <th>5293</th>\n      <td>DDD</td>\n      <td>2013J</td>\n      <td>582954</td>\n      <td>M</td>\n      <td>London Region</td>\n      <td>Lower Than A Level</td>\n      <td>10-20%</td>\n      <td>0-35</td>\n      <td>0</td>\n      <td>120</td>\n      <td>N</td>\n      <td>Fail</td>\n      <td>-7.0</td>\n    </tr>\n    <tr>\n      <th>7853</th>\n      <td>FFF</td>\n      <td>2013J</td>\n      <td>234004</td>\n      <td>M</td>\n      <td>Yorkshire Region</td>\n      <td>A Level or Equivalent</td>\n      <td>50-60%</td>\n      <td>0-35</td>\n      <td>0</td>\n      <td>60</td>\n      <td>N</td>\n      <td>Fail</td>\n      <td>0.0</td>\n    </tr>\n    <tr>\n      <th>8001</th>\n      <td>FFF</td>\n      <td>2013J</td>\n      <td>523777</td>\n      <td>M</td>\n      <td>North Region</td>\n      <td>A Level or Equivalent</td>\n      <td>0-10%</td>\n      <td>35-55</td>\n      <td>1</td>\n      <td>60</td>\n      <td>N</td>\n      <td>Fail</td>\n      <td>0.0</td>\n    </tr>\n    <tr>\n      <th>8340</th>\n      <td>FFF</td>\n      <td>2013J</td>\n      <td>601640</td>\n      <td>M</td>\n      <td>London Region</td>\n      <td>HE Qualification</td>\n      <td>20-30%</td>\n      <td>0-35</td>\n      <td>0</td>\n      <td>90</td>\n      <td>N</td>\n      <td>Fail</td>\n      <td>-4.0</td>\n    </tr>\n  </tbody>\n</table>\n</div>"
     },
     "metadata": {},
     "execution_count": 25
    }
   ],
   "source": [
    "temp = reg_student.loc[reg_student.date_unregistration.notna(), ['id_student','code_module', 'code_presentation', 'date_unregistration']]\n",
    "\n",
    "temp =pd.merge(info_student, temp, on=['id_student','code_module', 'code_presentation'])\n",
    "\n",
    "wrong_final_results=temp.loc[temp.final_result!='Withdrawn']\n",
    "incorrect_final_results=wrong_final_results.index\n",
    "wrong_final_results"
   ]
  },
  {
   "source": [
    "## Vle"
   ],
   "cell_type": "markdown",
   "metadata": {}
  },
  {
   "cell_type": "code",
   "execution_count": 26,
   "metadata": {},
   "outputs": [
    {
     "output_type": "stream",
     "name": "stdout",
     "text": [
      "<class 'pandas.core.frame.DataFrame'>\nRangeIndex: 6364 entries, 0 to 6363\nData columns (total 6 columns):\n #   Column             Non-Null Count  Dtype  \n---  ------             --------------  -----  \n 0   id_site            6364 non-null   int64  \n 1   code_module        6364 non-null   object \n 2   code_presentation  6364 non-null   object \n 3   activity_type      6364 non-null   object \n 4   week_from          1121 non-null   float64\n 5   week_to            1121 non-null   float64\ndtypes: float64(2), int64(1), object(3)\nmemory usage: 298.4+ KB\n"
     ]
    }
   ],
   "source": [
    "vle.info()"
   ]
  },
  {
   "cell_type": "code",
   "execution_count": 27,
   "metadata": {},
   "outputs": [
    {
     "output_type": "stream",
     "name": "stdout",
     "text": [
      "6364\n"
     ]
    }
   ],
   "source": [
    "print(len(vle.id_site.unique()))"
   ]
  },
  {
   "source": [
    "## Student Vle"
   ],
   "cell_type": "markdown",
   "metadata": {}
  },
  {
   "cell_type": "code",
   "execution_count": 28,
   "metadata": {},
   "outputs": [
    {
     "output_type": "stream",
     "name": "stdout",
     "text": [
      "<class 'pandas.core.frame.DataFrame'>\nRangeIndex: 10655280 entries, 0 to 10655279\nData columns (total 6 columns):\n #   Column             Dtype \n---  ------             ----- \n 0   code_module        object\n 1   code_presentation  object\n 2   id_student         object\n 3   id_site            int64 \n 4   date               int64 \n 5   sum_click          int64 \ndtypes: int64(3), object(3)\nmemory usage: 487.8+ MB\n"
     ]
    }
   ],
   "source": [
    "vle_student.info()"
   ]
  },
  {
   "cell_type": "code",
   "execution_count": 29,
   "metadata": {},
   "outputs": [],
   "source": [
    "vle_student.id_site = vle_student.id_site.astype(object)"
   ]
  },
  {
   "cell_type": "code",
   "execution_count": 30,
   "metadata": {},
   "outputs": [
    {
     "output_type": "execute_result",
     "data": {
      "text/plain": [
       "   id_student  id_site code_module code_presentation        date  sum_click\n",
       "0        6516   877011         AAA             2014J  210.333333   3.833333\n",
       "1        6516   877012         AAA             2014J   90.833333   2.310606\n",
       "2        6516   877015         AAA             2014J  113.461538   2.000000\n",
       "3        6516   877023         AAA             2014J  122.666667   2.000000\n",
       "4        6516   877025         AAA             2014J   41.142857   4.333333"
      ],
      "text/html": "<div>\n<style scoped>\n    .dataframe tbody tr th:only-of-type {\n        vertical-align: middle;\n    }\n\n    .dataframe tbody tr th {\n        vertical-align: top;\n    }\n\n    .dataframe thead th {\n        text-align: right;\n    }\n</style>\n<table border=\"1\" class=\"dataframe\">\n  <thead>\n    <tr style=\"text-align: right;\">\n      <th></th>\n      <th>id_student</th>\n      <th>id_site</th>\n      <th>code_module</th>\n      <th>code_presentation</th>\n      <th>date</th>\n      <th>sum_click</th>\n    </tr>\n  </thead>\n  <tbody>\n    <tr>\n      <th>0</th>\n      <td>6516</td>\n      <td>877011</td>\n      <td>AAA</td>\n      <td>2014J</td>\n      <td>210.333333</td>\n      <td>3.833333</td>\n    </tr>\n    <tr>\n      <th>1</th>\n      <td>6516</td>\n      <td>877012</td>\n      <td>AAA</td>\n      <td>2014J</td>\n      <td>90.833333</td>\n      <td>2.310606</td>\n    </tr>\n    <tr>\n      <th>2</th>\n      <td>6516</td>\n      <td>877015</td>\n      <td>AAA</td>\n      <td>2014J</td>\n      <td>113.461538</td>\n      <td>2.000000</td>\n    </tr>\n    <tr>\n      <th>3</th>\n      <td>6516</td>\n      <td>877023</td>\n      <td>AAA</td>\n      <td>2014J</td>\n      <td>122.666667</td>\n      <td>2.000000</td>\n    </tr>\n    <tr>\n      <th>4</th>\n      <td>6516</td>\n      <td>877025</td>\n      <td>AAA</td>\n      <td>2014J</td>\n      <td>41.142857</td>\n      <td>4.333333</td>\n    </tr>\n  </tbody>\n</table>\n</div>"
     },
     "metadata": {},
     "execution_count": 30
    }
   ],
   "source": [
    "avg_per_site = vle_student.groupby([\"id_student\",\"id_site\",\"code_module\",\"code_presentation\"]).mean().reset_index()\n",
    "avg_per_site.head()"
   ]
  },
  {
   "cell_type": "code",
   "execution_count": 31,
   "metadata": {},
   "outputs": [
    {
     "output_type": "stream",
     "name": "stdout",
     "text": [
      "<class 'pandas.core.frame.DataFrame'>\nRangeIndex: 10655280 entries, 0 to 10655279\nData columns (total 6 columns):\n #   Column             Dtype \n---  ------             ----- \n 0   code_module        object\n 1   code_presentation  object\n 2   id_student         object\n 3   id_site            object\n 4   date               int64 \n 5   sum_click          int64 \ndtypes: int64(2), object(4)\nmemory usage: 487.8+ MB\n"
     ]
    }
   ],
   "source": [
    "vle_student.info()"
   ]
  },
  {
   "cell_type": "code",
   "execution_count": null,
   "metadata": {},
   "outputs": [],
   "source": []
  }
 ]
}